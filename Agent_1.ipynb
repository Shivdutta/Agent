{
  "nbformat": 4,
  "nbformat_minor": 0,
  "metadata": {
    "colab": {
      "provenance": []
    },
    "kernelspec": {
      "name": "python3",
      "display_name": "Python 3"
    },
    "language_info": {
      "name": "python"
    }
  },
  "cells": [
    {
      "cell_type": "markdown",
      "source": [
        "**1 Install and Import Libs**"
      ],
      "metadata": {
        "id": "Vx-yRECNYBQq"
      }
    },
    {
      "cell_type": "code",
      "execution_count": 10,
      "metadata": {
        "id": "8AgElO1UMDDa"
      },
      "outputs": [],
      "source": [
        "!pip install llama-index-llms-anthropic -q\n",
        "!pip install llama-index-embeddings-openai -q\n",
        "!pip install llama-index -q\n",
        "!pip install anthropic -q\n",
        "!pip install openai -q"
      ]
    },
    {
      "cell_type": "code",
      "source": [
        "from google.colab import drive\n",
        "drive.mount('/content/drive')\n",
        "%cd /content/drive/MyDrive/Colab_Notebooks/Agent"
      ],
      "metadata": {
        "colab": {
          "base_uri": "https://localhost:8080/"
        },
        "id": "XtZ8JcSPXjtN",
        "outputId": "e4062d72-a512-431f-f56d-baac84b43234"
      },
      "execution_count": 11,
      "outputs": [
        {
          "output_type": "stream",
          "name": "stdout",
          "text": [
            "Drive already mounted at /content/drive; to attempt to forcibly remount, call drive.mount(\"/content/drive\", force_remount=True).\n",
            "/content/drive/MyDrive/Colab_Notebooks/Agent\n"
          ]
        }
      ]
    },
    {
      "cell_type": "code",
      "source": [
        "from llama_index.llms.anthropic import Anthropic\n",
        "from llama_index.core.tools import FunctionTool\n",
        "import nest_asyncio\n",
        "nest_asyncio.apply()\n",
        "from google.colab import userdata\n",
        "CLAUDE_API_KEY = userdata.get('ANTHROPIC_API_KEY')\n",
        "OPENAI_API_KEY = userdata.get('OPENAI_API_KEY')\n",
        "LLAMA_CLOUD_API_KEY = userdata.get('LLAMAPARSE_API_KEY')\n",
        "import openai\n",
        "openai.api_key = OPENAI_API_KEY"
      ],
      "metadata": {
        "id": "jr_sJTrMX4jp"
      },
      "execution_count": 12,
      "outputs": []
    },
    {
      "cell_type": "markdown",
      "source": [
        "**Load documents**"
      ],
      "metadata": {
        "id": "40i_Ss_GZvPu"
      }
    },
    {
      "cell_type": "code",
      "source": [
        "import os\n",
        "path_pdf = os.path.join(os.getcwd(),'jpmorgan_annualreport-2022-splitted.pdf')\n",
        "output_directory_path = os.path.join(os.getcwd(),'test_claude')"
      ],
      "metadata": {
        "id": "9heh860CZx6b"
      },
      "execution_count": 13,
      "outputs": []
    },
    {
      "cell_type": "markdown",
      "source": [
        "**2 RAG**\n",
        "\n",
        "**2.1 LlamaParse: Parse Document using markdown parser**"
      ],
      "metadata": {
        "id": "gjq_HJeIqt4Q"
      }
    },
    {
      "cell_type": "code",
      "source": [
        "from llama_index.core import VectorStoreIndex, SimpleDirectoryReader\n",
        "from llama_parse import LlamaParse\n",
        "pdf_file = os.path.join(os.getcwd(),'jpmorgan_annualreport-2022-splitted.pdf')\n",
        "# set up parser\n",
        "parser = LlamaParse(api_key=LLAMA_CLOUD_API_KEY, result_type=\"markdown\")\n",
        "file_extractor = {\".pdf\": parser}\n",
        "documents = SimpleDirectoryReader(input_files=[pdf_file], file_extractor=file_extractor).load_data()\n",
        "# Index the documents in a vectorStore\n",
        "index_jpmorgan = VectorStoreIndex.from_documents(documents)"
      ],
      "metadata": {
        "colab": {
          "base_uri": "https://localhost:8080/"
        },
        "id": "tY9hTkd7q7wh",
        "outputId": "6bcb7c51-818a-4656-9c28-a16c00a13a97"
      },
      "execution_count": 14,
      "outputs": [
        {
          "output_type": "stream",
          "name": "stdout",
          "text": [
            "Started parsing the file under job_id 7c77cbb8-1542-4572-aa75-51fc463c8db0\n",
            "."
          ]
        }
      ]
    },
    {
      "cell_type": "code",
      "source": [
        "documents"
      ],
      "metadata": {
        "colab": {
          "base_uri": "https://localhost:8080/"
        },
        "id": "5Cb9YU3XucxQ",
        "outputId": "e8b5a7d9-5693-414b-ce6a-a52919850792"
      },
      "execution_count": 15,
      "outputs": [
        {
          "output_type": "execute_result",
          "data": {
            "text/plain": [
              "[Document(id_='94663e86-c014-4942-bbde-fcca6960cfd0', embedding=None, metadata={'file_path': '/content/drive/MyDrive/Colab_Notebooks/Agent/jpmorgan_annualreport-2022-splitted.pdf', 'file_name': 'jpmorgan_annualreport-2022-splitted.pdf', 'file_type': 'application/pdf', 'file_size': 103636, 'creation_date': '2024-11-17', 'last_modified_date': '2024-11-17'}, excluded_embed_metadata_keys=['file_name', 'file_type', 'file_size', 'creation_date', 'last_modified_date', 'last_accessed_date'], excluded_llm_metadata_keys=['file_name', 'file_type', 'file_size', 'creation_date', 'last_modified_date', 'last_accessed_date'], relationships={}, text='# Earnings, Diluted Earnings per Share and Return on Tangible Common Equity\\n\\n# 2004–2022\\n\\n($ in billions, except per share and ratio data)\\n\\n| |Reported|Reported|Reported|Excluding reserve release/build1|Excluding reserve release/build1|Excluding reserve release/build1|\\n|---|---|---|\\n| |2020|2021|2022|2020|2021|2022|\\n|Net income ($B)|$29.1|$48.3|$37.7|$38.4|$39.1|$40.4|\\n|Diluted EPS ($)|$8.88|$15.36|$12.09|$11.87|$12.35|$12.99|\\n|ROTCE|14.4%|23.0%|17.7%|19.3%|18.5%|19.1%|\\n\\nAdjusted net income2\\n\\n$32.5\\n$15.36\\n$10.72\\n$12.09\\n$26.9\\n$29.1\\n\\n2004       2005      2006      2007      2008       2009      2010      2011       2012      2013      2014      2015       2016      2017      2018      2019      2020       2021      2022\\n\\n# Net income\\n\\n# Diluted earnings per share (EPS)\\n\\n# Return on tangible common equity (ROTCE)\\n\\nAdjusted ROTCE2 excluding reserve release/build\\n\\n1  Firmwide results excluding reserve release/build are non-GAAP financial measures.\\n\\n2  Adjusted net income excludes $2.4 billion from net income in 2017 as a result of the enactment of the Tax Cuts and Jobs Act.\\n\\nGAAP = Generally accepted accounting principles\\n\\nROTCE = Return on tangible common equity\\n\\nAn important note to describe why we are showing the table above: The loan loss reserve accounting rules — which are life-of-loan estimated losses based upon probability-based economic scenarios — generate huge swings in earnings that can be unrelated to actual credit performance. This was particularly true for the COVID-19 years when, during the first six months of the pandemic, we built approximately $16 billion in reserves. Then in the next six quarters, we released essentially the equivalent number. We did so only because the scenarios used to estimate future credit losses changed dramatically.\\n\\nThe table above shows reported net income, with and without loan loss reserve changes. Throughout this period, the credit portfolio was healthy, and charge-offs remained below pre-pandemic levels. Either way, the company had strong absolute and relative performance.', mimetype='text/plain', start_char_idx=None, end_char_idx=None, text_template='{metadata_str}\\n\\n{content}', metadata_template='{key}: {value}', metadata_seperator='\\n'),\n",
              " Document(id_='8818f322-e3cb-415e-a204-5c19c2545cd9', embedding=None, metadata={'file_path': '/content/drive/MyDrive/Colab_Notebooks/Agent/jpmorgan_annualreport-2022-splitted.pdf', 'file_name': 'jpmorgan_annualreport-2022-splitted.pdf', 'file_type': 'application/pdf', 'file_size': 103636, 'creation_date': '2024-11-17', 'last_modified_date': '2024-11-17'}, excluded_embed_metadata_keys=['file_name', 'file_type', 'file_size', 'creation_date', 'last_modified_date', 'last_accessed_date'], excluded_llm_metadata_keys=['file_name', 'file_type', 'file_size', 'creation_date', 'last_modified_date', 'last_accessed_date'], relationships={}, text='# Tangible Book Value and Average Stock Price per Share\\n\\n$155.61\\n\\n2004–2022\\n\\n| | | | | | | | | | | | | | | | | | | |\\n|---|---|---|---|---|---|---|---|---|---|---|---|---|---|---|---|---|---|---|\\n|2004|$38.70|$36.07|$39.83|$40.36|$39.36|$39.22|$48.13|$51.44|$47.75|$43.93|$53.56|$56.33|$60.98|$66.11|$71.53|$73.12|$65.62|$63.83|\\n|2005|$27.09|$30.12|$33.62|$40.72|$38.68|$44.60| | | | | | | | | | | | |\\n|2006|$15.35|$16.45|$18.88|$21.96|$22.52| | | | | | | | | | | | | |\\n|2007| | | | | | | | | | | | | | | | | | |\\n|2008| | | | | | | | | | | | | | | | | | |\\n|2009| | | | | | | | | | | | | | | | | | |\\n|2010| | | | | | | | | | | | | | | | | | |\\n|2011| | | | | | | | | | | | | | | | | | |\\n|2012| | | | | | | | | | | | | | | | | | |\\n|2013| | | | | | | | | | | | | | | | | | |\\n|2014| | | | | | | | | | | | | | | | | | |\\n|2015| | | | | | | | | | | | | | | | | | |\\n|2016| | | | | | | | | | | | | | | | | | |\\n|2017| | | | | | | | | | | | | | | | | | |\\n|2018| | | | | | | | | | | | | | | | | | |\\n|2019| | | | | | | | | | | | | | | | | | |\\n|2020| | | | | | | | | | | | | | | | | | |\\n|2021| | | | | | | | | | | | | | | | | | |\\n|2022| | | | | | | | | | | | | | | | | | |\\n\\n1 9% compound annual growth rate since 2004.\\n\\n# Stock total return analysis\\n\\n| |Bank One|S&P 500 Index|S&P Financials Index| |\\n|---|---|---|---|---|\\n|Performance since becoming CEO of Bank One (3/27/2000—12/31/2022)|Compounded annual gain|11.3%|6.1%|4.6%|\\n| |Overall gain|1,047.8%|287.7%|176.1%|\\n\\n| | |JPMorgan Chase & Co.|S&P 500 Index|S&P Financials Index|\\n|---|---|---|---|---|\\n|Performance since the Bank One and JPMorgan Chase & Co. merger (7/1/2004—12/31/2022)|Compounded annual gain|9.9%|8.9%|4.4%|\\n| |Overall gain|471.6%|386.8%|120.0%|\\n\\n# Performance for the period ended December 31, 2022\\n\\n| |Compounded annual gain/(loss)| | |\\n|---|---|---|---|\\n|One year|(12.6)%|(18.1)%|(10.5)%|\\n|Five years|7.7%|9.4%|6.4%|\\n|Ten years|14.9%|12.6%|12.1%|\\n\\nThis chart shows actual returns of the stock, with dividends reinvested, for heritage shareholders of Bank One and JPMorgan Chase & Co. vs. the Standard & Poor’s 500 Index (S&P 500 Index) and the Standard & Poor’s Financials Index (S&P Financials Index).\\n\\n1 On March 27, 2000, Jamie Dimon was hired as CEO of Bank One.', mimetype='text/plain', start_char_idx=None, end_char_idx=None, text_template='{metadata_str}\\n\\n{content}', metadata_template='{key}: {value}', metadata_seperator='\\n')]"
            ]
          },
          "metadata": {},
          "execution_count": 15
        }
      ]
    },
    {
      "cell_type": "markdown",
      "source": [
        "**2.2 Query the Document using GPT-4-Turbo**"
      ],
      "metadata": {
        "id": "_dvpHbEnujpk"
      }
    },
    {
      "cell_type": "code",
      "source": [
        "from llama_index.llms.openai import OpenAI\n",
        "llm_openai = OpenAI(model=\"gpt-4-turbo\", temperature=0.1)\n",
        "query_engine_jpmorgan = index_jpmorgan.as_query_engine(llm=llm_openai)\n",
        "# query the engine\n",
        "query = \"What was the Net Income in 2020, the Reported one?\"\n",
        "response_jpmorgan = query_engine_jpmorgan.query(query)\n",
        "print(\"*\"*50)"
      ],
      "metadata": {
        "colab": {
          "base_uri": "https://localhost:8080/"
        },
        "id": "SVKSp15svJKo",
        "outputId": "b4760c21-3a36-4a48-9d09-82fa45327333"
      },
      "execution_count": 16,
      "outputs": [
        {
          "output_type": "stream",
          "name": "stdout",
          "text": [
            "**************************************************\n"
          ]
        }
      ]
    },
    {
      "cell_type": "code",
      "source": [
        "print(f\"The answer to the question '''{query}''' is :\\n\")\n",
        "response_jpmorgan.response"
      ],
      "metadata": {
        "colab": {
          "base_uri": "https://localhost:8080/",
          "height": 70
        },
        "id": "a7PVLSbdvRQf",
        "outputId": "ef64d140-31ca-4d96-ea1a-9e888ee95506"
      },
      "execution_count": 17,
      "outputs": [
        {
          "output_type": "stream",
          "name": "stdout",
          "text": [
            "The answer to the question '''What was the Net Income in 2020, the Reported one?''' is :\n",
            "\n"
          ]
        },
        {
          "output_type": "execute_result",
          "data": {
            "text/plain": [
              "'The reported net income for 2020 was $29.1 billion.'"
            ],
            "application/vnd.google.colaboratory.intrinsic+json": {
              "type": "string"
            }
          },
          "metadata": {},
          "execution_count": 17
        }
      ]
    },
    {
      "cell_type": "markdown",
      "source": [
        "**3 Build an Anthropic Agent over RAG**\n",
        "\n",
        "**3.1 RAG tool**\n",
        "\n",
        "FunctionCallingAgentWorker using the query engine tool and initialize the Anthropic\n",
        "Agent."
      ],
      "metadata": {
        "id": "XqXKrfHavaAx"
      }
    },
    {
      "cell_type": "code",
      "source": [
        "from llama_index.core.tools import QueryEngineTool, ToolMetadata\n",
        "#Create the Query Engine Tool over the RAG pipeline\n",
        "query_engine_tool = QueryEngineTool(\n",
        "query_engine=query_engine_jpmorgan,\n",
        "metadata=ToolMetadata(\n",
        "name=\"jpmorgan_annualreport-2022\",\n",
        "description=(\n",
        "\"Provides Annual Report information about JPMorgan for 2022. \"\n",
        "\"Use a detailed plain text question as input to the tool.\"),),)"
      ],
      "metadata": {
        "id": "CiP4Sp6EvnDn"
      },
      "execution_count": 18,
      "outputs": []
    },
    {
      "cell_type": "code",
      "source": [
        "from llama_index.core.agent import FunctionCallingAgentWorker\n",
        "llm_anthropic = Anthropic(model=\"claude-3-opus-20240229\",api_key=CLAUDE_API_KEY)\n",
        "agent_worker = FunctionCallingAgentWorker.from_tools(\n",
        "[query_engine_tool], llm=llm_anthropic, verbose=True\n",
        ")\n",
        "agent = agent_worker.as_agent()"
      ],
      "metadata": {
        "id": "D9QeSKEHwD19"
      },
      "execution_count": 23,
      "outputs": []
    },
    {
      "cell_type": "markdown",
      "source": [
        "**3.2 Chat with the Agent**"
      ],
      "metadata": {
        "id": "lhikzc7awNGo"
      }
    },
    {
      "cell_type": "code",
      "source": [
        "query = \"What was the Net Income in 2020, the Reported one?\"\n",
        "response = agent.chat(query)\n",
        "print(str(response))"
      ],
      "metadata": {
        "id": "J-EeyKZGwQVD"
      },
      "execution_count": null,
      "outputs": []
    },
    {
      "cell_type": "code",
      "source": [
        "query = \"What was the evolution of the Net Income from 2020 to 2021, the Reported one?\"\n",
        "response = agent.chat(query)\n",
        "print(str(response))"
      ],
      "metadata": {
        "id": "KM-hXtYF0xhh"
      },
      "execution_count": null,
      "outputs": []
    },
    {
      "cell_type": "code",
      "source": [
        "query = \"What was the evolution in term of percentage of the Net Income from 2020 to 2021, the Reported one?\"\n",
        "response = agent.chat(query)\n",
        "print(str(response))"
      ],
      "metadata": {
        "id": "SF2NVkba03UI"
      },
      "execution_count": null,
      "outputs": []
    },
    {
      "cell_type": "markdown",
      "source": [
        "**3.3 Add another Tool to the Agent:**\n",
        "\n",
        "\n",
        "Add another Tool to the Agent:\n",
        "• Calculate the evolution rom year X to year Y\n",
        "• Calculate Compound Annual Growth Rate\n",
        "• Calculate Price Per Earning Ratio"
      ],
      "metadata": {
        "id": "L3SXprjc1Bi5"
      }
    },
    {
      "cell_type": "code",
      "source": [
        "def evolution(a: float, b: float) -> float:\n",
        "  \"\"\"Evolution in percentage from value b to value a\"\"\"\n",
        "  return f\"{round(100*(a/b-1),0)}%\"\n",
        "evolution_tool = FunctionTool.from_defaults(fn=evolution)"
      ],
      "metadata": {
        "id": "peMKePYx1EYT"
      },
      "execution_count": null,
      "outputs": []
    },
    {
      "cell_type": "code",
      "source": [
        "def cagr(a: float, b: float, n: int) -> float:\n",
        "  \"\"\"Compound annual growth rate CAGR from value b to value a over n period\"\"\"\n",
        "  return f\"{round(100*((a/b)^(1/n)-1),0)}%\"\n",
        "cagr_tool = FunctionTool.from_defaults(fn=cagr)"
      ],
      "metadata": {
        "id": "-kk_FdAd1Xym"
      },
      "execution_count": null,
      "outputs": []
    },
    {
      "cell_type": "code",
      "source": [
        "def price_earning_ratio(price: float, eps: float) -> float:\n",
        "  \"\"\"Price per earning ratio is a ratio of the share price devided by the earning per share(EPS) value\"\"\"\n",
        "  return price/eps\n",
        "pe_tool = FunctionTool.from_defaults(fn=price_earning_ratio)"
      ],
      "metadata": {
        "id": "0XcZIlhM1t3t"
      },
      "execution_count": null,
      "outputs": []
    },
    {
      "cell_type": "markdown",
      "source": [
        "**3.4  Update the Agent with this second tool**"
      ],
      "metadata": {
        "id": "TxWn4-cG15TL"
      }
    },
    {
      "cell_type": "code",
      "source": [
        "agent_worker2 = FunctionCallingAgentWorker.from_tools([query_engine_tool, evolution_tool], llm=llm_anthropic, verbose=True)\n",
        "agent2 = agent_worker2.as_agent()\n",
        "query = \"What was the evolution of the Net Income from 2020 to 2021, the Reported one?\"\n",
        "response = agent2.chat(query)\n",
        "print(str(response))"
      ],
      "metadata": {
        "id": "HfU_nQQ_183j"
      },
      "execution_count": null,
      "outputs": []
    },
    {
      "cell_type": "code",
      "source": [
        "query = \"What was the evolution of the Net Income from 2021 to 2022, the Reported one?\"\n",
        "response = agent2.chat(query)\n",
        "print(str(response))"
      ],
      "metadata": {
        "id": "wEV2Ehjg2Lry"
      },
      "execution_count": null,
      "outputs": []
    },
    {
      "cell_type": "code",
      "source": [
        "query = \"Compare the evolution of the Net Income between 2020 to 2021 and 2021 to 2022, the Reported one.\"\n",
        "response = agent2.chat(query)\n",
        "print(str(response))"
      ],
      "metadata": {
        "id": "cshtzUNf2WE1"
      },
      "execution_count": null,
      "outputs": []
    },
    {
      "cell_type": "code",
      "source": [
        "agent_worker3 = FunctionCallingAgentWorker.from_tools(\n",
        "[query_engine_tool, evolution_tool, cagr_tool], llm=llm_anthropic,verbose=True)\n",
        "agent3 = agent_worker3.as_agent()\n",
        "query = \"What was the compound annual growth of the Net Income from 2020 to 2022, the Reported one?\"\n",
        "response = agent3.chat(query)\n",
        "print(str(response))"
      ],
      "metadata": {
        "id": "iz5JV7O92ZEk"
      },
      "execution_count": null,
      "outputs": []
    },
    {
      "cell_type": "code",
      "source": [
        "agent_worker3 = FunctionCallingAgentWorker.from_tools(\n",
        "[query_engine_tool, evolution_tool, cagr_tool, pe_tool], llm=llm_anthropic,verbose=True)\n",
        "agent3 = agent_worker3.as_agent()\n",
        "query = \"knowning that the price of JPMorang in 2022 was $134.10 and given the financial report,what was the price/earning ratio?\"\n",
        "response = agent3.chat(query)\n",
        "print(str(response))"
      ],
      "metadata": {
        "id": "DnnCiR1I2iV1"
      },
      "execution_count": null,
      "outputs": []
    }
  ]
}